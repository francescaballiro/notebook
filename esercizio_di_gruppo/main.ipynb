{
 "cells": [
  {
   "cell_type": "code",
   "execution_count": 4,
   "id": "b7ed955d-73ba-4dd5-a9ee-55135f6f9593",
   "metadata": {},
   "outputs": [],
   "source": [
    "import pandas as pd\n",
    "from matplotlib import pyplot as plt"
   ]
  },
  {
   "cell_type": "code",
   "execution_count": 10,
   "id": "33ccbfad-a7ae-46b4-85c9-e6e59a42f3c8",
   "metadata": {},
   "outputs": [],
   "source": [
    "df = pd.read_csv(\"soggetti-guariti.csv\", sep=\";\")"
   ]
  },
  {
   "cell_type": "code",
   "execution_count": 11,
   "id": "38f1f5b4-b23b-4419-bb68-66f249cd234d",
   "metadata": {},
   "outputs": [
    {
     "data": {
      "text/html": [
       "<div>\n",
       "<style scoped>\n",
       "    .dataframe tbody tr th:only-of-type {\n",
       "        vertical-align: middle;\n",
       "    }\n",
       "\n",
       "    .dataframe tbody tr th {\n",
       "        vertical-align: top;\n",
       "    }\n",
       "\n",
       "    .dataframe thead th {\n",
       "        text-align: right;\n",
       "    }\n",
       "</style>\n",
       "<table border=\"1\" class=\"dataframe\">\n",
       "  <thead>\n",
       "    <tr style=\"text-align: right;\">\n",
       "      <th></th>\n",
       "      <th>area,reg,eta,guariti_senza_somm,guariti_post_somm,guariti_post_1booster,guariti_post_2booster</th>\n",
       "    </tr>\n",
       "  </thead>\n",
       "  <tbody>\n",
       "    <tr>\n",
       "      <th>0</th>\n",
       "      <td>ABR,Abruzzo,00-04,112,0,0,0</td>\n",
       "    </tr>\n",
       "    <tr>\n",
       "      <th>1</th>\n",
       "      <td>ABR,Abruzzo,05-11,89,0,0,0</td>\n",
       "    </tr>\n",
       "    <tr>\n",
       "      <th>2</th>\n",
       "      <td>ABR,Abruzzo,12-19,31,25,0,0</td>\n",
       "    </tr>\n",
       "    <tr>\n",
       "      <th>3</th>\n",
       "      <td>ABR,Abruzzo,20-29,12,83,0,0</td>\n",
       "    </tr>\n",
       "    <tr>\n",
       "      <th>4</th>\n",
       "      <td>ABR,Abruzzo,30-39,34,161,0,0</td>\n",
       "    </tr>\n",
       "    <tr>\n",
       "      <th>...</th>\n",
       "      <td>...</td>\n",
       "    </tr>\n",
       "    <tr>\n",
       "      <th>205</th>\n",
       "      <td>VEN,Veneto,40-49,276,423,0,0</td>\n",
       "    </tr>\n",
       "    <tr>\n",
       "      <th>206</th>\n",
       "      <td>VEN,Veneto,50-59,240,554,0,0</td>\n",
       "    </tr>\n",
       "    <tr>\n",
       "      <th>207</th>\n",
       "      <td>VEN,Veneto,60-69,189,449,2873,390</td>\n",
       "    </tr>\n",
       "    <tr>\n",
       "      <th>208</th>\n",
       "      <td>VEN,Veneto,70-79,155,424,2540,602</td>\n",
       "    </tr>\n",
       "    <tr>\n",
       "      <th>209</th>\n",
       "      <td>VEN,Veneto,80+,179,307,2991,1173</td>\n",
       "    </tr>\n",
       "  </tbody>\n",
       "</table>\n",
       "<p>210 rows × 1 columns</p>\n",
       "</div>"
      ],
      "text/plain": [
       "    area,reg,eta,guariti_senza_somm,guariti_post_somm,guariti_post_1booster,guariti_post_2booster\n",
       "0                          ABR,Abruzzo,00-04,112,0,0,0                                           \n",
       "1                           ABR,Abruzzo,05-11,89,0,0,0                                           \n",
       "2                          ABR,Abruzzo,12-19,31,25,0,0                                           \n",
       "3                          ABR,Abruzzo,20-29,12,83,0,0                                           \n",
       "4                         ABR,Abruzzo,30-39,34,161,0,0                                           \n",
       "..                                                 ...                                           \n",
       "205                       VEN,Veneto,40-49,276,423,0,0                                           \n",
       "206                       VEN,Veneto,50-59,240,554,0,0                                           \n",
       "207                  VEN,Veneto,60-69,189,449,2873,390                                           \n",
       "208                  VEN,Veneto,70-79,155,424,2540,602                                           \n",
       "209                   VEN,Veneto,80+,179,307,2991,1173                                           \n",
       "\n",
       "[210 rows x 1 columns]"
      ]
     },
     "execution_count": 11,
     "metadata": {},
     "output_type": "execute_result"
    }
   ],
   "source": [
    "df = df.loc[['ABR'], [\"\", \"A\"]] "
   ]
  },
  {
   "cell_type": "code",
   "execution_count": null,
   "id": "b198f8db-3fe4-48c1-b833-4030bf3ad4fa",
   "metadata": {},
   "outputs": [],
   "source": []
  }
 ],
 "metadata": {
  "kernelspec": {
   "display_name": "Python 3 (ipykernel)",
   "language": "python",
   "name": "python3"
  },
  "language_info": {
   "codemirror_mode": {
    "name": "ipython",
    "version": 3
   },
   "file_extension": ".py",
   "mimetype": "text/x-python",
   "name": "python",
   "nbconvert_exporter": "python",
   "pygments_lexer": "ipython3",
   "version": "3.13.1"
  }
 },
 "nbformat": 4,
 "nbformat_minor": 5
}
